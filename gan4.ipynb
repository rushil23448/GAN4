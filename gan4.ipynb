{
 "cells": [
  {
   "cell_type": "code",
   "execution_count": null,
   "metadata": {},
   "outputs": [],
   "source": [
    "import torch\n",
    "import torch.nn as nn\n",
    "import torch.optim as optim\n",
    "import torchvision.transforms as transforms\n",
    "import torchvision.utils as vutils\n",
    "from torch.utils.data import DataLoader\n",
    "import medmnist\n",
    "from medmnist import INFO\n",
    "import numpy as np\n",
    "from torch.utils.tensorboard import SummaryWriter\n",
    "from torchmetrics.image.fid import FrechetInceptionDistance\n",
    "import os\n"
   ]
  },
  {
   "cell_type": "code",
   "execution_count": 3,
   "metadata": {},
   "outputs": [],
   "source": [
    "\n",
    "# Device configuration\n",
    "device = torch.device(\"cuda\" if torch.cuda.is_available() else \"cpu\")\n"
   ]
  },
  {
   "cell_type": "code",
   "execution_count": 4,
   "metadata": {},
   "outputs": [
    {
     "name": "stdout",
     "output_type": "stream",
     "text": [
      "cuda\n"
     ]
    }
   ],
   "source": [
    "print(device)"
   ]
  },
  {
   "cell_type": "code",
   "execution_count": 5,
   "metadata": {},
   "outputs": [],
   "source": [
    "# Hyperparameters\n",
    "image_size = 64\n",
    "batch_size = 128\n",
    "latent_dim = 100\n",
    "num_epochs = 50\n",
    "lr = 0.0002\n",
    "beta1 = 0.5\n",
    "lambda_gp = 10  # Gradient penalty coefficient for WGAN-GP\n",
    "\n",
    "dataset_name = \"pathmnist\"\n",
    "info = INFO[dataset_name]\n",
    "data_flag = dataset_name\n",
    "num_classes = len(info[\"label\"])"
   ]
  },
  {
   "cell_type": "code",
   "execution_count": 6,
   "metadata": {},
   "outputs": [
    {
     "name": "stdout",
     "output_type": "stream",
     "text": [
      "Downloading https://zenodo.org/records/10519652/files/pathmnist.npz?download=1 to C:\\Users\\rushi\\.medmnist\\pathmnist.npz\n"
     ]
    },
    {
     "name": "stderr",
     "output_type": "stream",
     "text": [
      "100%|██████████| 205615438/205615438 [00:20<00:00, 9908975.87it/s] \n"
     ]
    }
   ],
   "source": [
    "# Dataset preparation\n",
    "transform = transforms.Compose([\n",
    "    transforms.Resize(image_size),\n",
    "    transforms.ToTensor(),\n",
    "    transforms.Normalize((0.5,), (0.5,))\n",
    "])\n",
    "\n",
    "dataset = medmnist.PathMNIST(split=\"train\", download=True, transform=transform)\n",
    "dataloader = DataLoader(dataset, batch_size=batch_size, shuffle=True)"
   ]
  },
  {
   "cell_type": "code",
   "execution_count": 7,
   "metadata": {},
   "outputs": [],
   "source": [
    "# Define Generator class\n",
    "class Generator(nn.Module):\n",
    "    def __init__(self, latent_dim):\n",
    "        super(Generator, self).__init__()\n",
    "        self.model = nn.Sequential(\n",
    "            nn.ConvTranspose2d(latent_dim, 512, 4, 1, 0, bias=False),\n",
    "            nn.BatchNorm2d(512),\n",
    "            nn.ReLU(True),\n",
    "            nn.ConvTranspose2d(512, 256, 4, 2, 1, bias=False),\n",
    "            nn.BatchNorm2d(256),\n",
    "            nn.ReLU(True),\n",
    "            nn.ConvTranspose2d(256, 128, 4, 2, 1, bias=False),\n",
    "            nn.BatchNorm2d(128),\n",
    "            nn.ReLU(True),\n",
    "            nn.ConvTranspose2d(128, 64, 4, 2, 1, bias=False),\n",
    "            nn.BatchNorm2d(64),\n",
    "            nn.ReLU(True),\n",
    "            nn.ConvTranspose2d(64, 3, 4, 2, 1, bias=False),\n",
    "            nn.Tanh()\n",
    "        )\n",
    "    \n",
    "    def forward(self, x):\n",
    "        return self.model(x)"
   ]
  },
  {
   "cell_type": "code",
   "execution_count": 8,
   "metadata": {},
   "outputs": [],
   "source": [
    "\n",
    "# Define Discriminator class (shared across all GANs)\n",
    "class Discriminator(nn.Module):\n",
    "    def __init__(self):\n",
    "        super(Discriminator, self).__init__()\n",
    "        self.model = nn.Sequential(\n",
    "            nn.Conv2d(3, 64, 4, 2, 1, bias=False),\n",
    "            nn.LeakyReLU(0.2, inplace=True),\n",
    "            nn.Conv2d(64, 128, 4, 2, 1, bias=False),\n",
    "            nn.BatchNorm2d(128),\n",
    "            nn.LeakyReLU(0.2, inplace=True),\n",
    "            nn.Conv2d(128, 256, 4, 2, 1, bias=False),\n",
    "            nn.BatchNorm2d(256),\n",
    "            nn.LeakyReLU(0.2, inplace=True),\n",
    "            nn.Conv2d(256, 512, 4, 2, 1, bias=False),\n",
    "            nn.BatchNorm2d(512),\n",
    "            nn.LeakyReLU(0.2, inplace=True),\n",
    "            nn.Conv2d(512, 1, 4, 1, 0, bias=False),\n",
    "            nn.Sigmoid()\n",
    "        )\n",
    "    \n",
    "    def forward(self, x):\n",
    "        return self.model(x).view(-1, 1)"
   ]
  },
  {
   "cell_type": "code",
   "execution_count": 9,
   "metadata": {},
   "outputs": [],
   "source": [
    "# Initialize models\n",
    "generator = Generator(latent_dim).to(device)\n",
    "discriminator = Discriminator().to(device)\n"
   ]
  },
  {
   "cell_type": "code",
   "execution_count": 10,
   "metadata": {},
   "outputs": [],
   "source": [
    "# Loss functions for different GANs\n",
    "criterion_bce = nn.BCELoss()  # For Vanilla GAN\n",
    "criterion_mse = nn.MSELoss()  # For LS-GAN\n"
   ]
  },
  {
   "cell_type": "code",
   "execution_count": 11,
   "metadata": {},
   "outputs": [],
   "source": [
    "# Optimizers\n",
    "optimizer_g = optim.Adam(generator.parameters(), lr=lr, betas=(beta1, 0.999))\n",
    "optimizer_d = optim.Adam(discriminator.parameters(), lr=lr, betas=(beta1, 0.999))"
   ]
  },
  {
   "cell_type": "code",
   "execution_count": 12,
   "metadata": {},
   "outputs": [],
   "source": [
    "# TensorBoard setup\n",
    "writer = SummaryWriter(log_dir=\"./runs\")"
   ]
  },
  {
   "cell_type": "code",
   "execution_count": 13,
   "metadata": {},
   "outputs": [
    {
     "name": "stderr",
     "output_type": "stream",
     "text": [
      "Downloading: \"https://github.com/toshas/torch-fidelity/releases/download/v0.2.0/weights-inception-2015-12-05-6726825d.pth\" to C:\\Users\\rushi/.cache\\torch\\hub\\checkpoints\\weights-inception-2015-12-05-6726825d.pth\n",
      "100%|██████████| 91.2M/91.2M [00:08<00:00, 11.2MB/s]\n"
     ]
    }
   ],
   "source": [
    "# FID Score for evaluation\n",
    "fid = FrechetInceptionDistance(feature=64).to(device)"
   ]
  },
  {
   "cell_type": "code",
   "execution_count": 17,
   "metadata": {},
   "outputs": [
    {
     "name": "stdout",
     "output_type": "stream",
     "text": [
      "Epoch [0/50] D_Vanilla: 0.0002, D_LS: 0.0000, D_WGAN: -0.9998\n",
      "FID Score: 2.4429\n",
      "Epoch [1/50] D_Vanilla: 0.0517, D_LS: 0.0035, D_WGAN: -0.9502\n",
      "FID Score: 2.5361\n",
      "Epoch [2/50] D_Vanilla: 0.0118, D_LS: 0.0002, D_WGAN: -0.9883\n",
      "FID Score: 2.2547\n",
      "Epoch [3/50] D_Vanilla: 0.0395, D_LS: 0.0021, D_WGAN: -0.9616\n",
      "FID Score: 2.0141\n",
      "Epoch [4/50] D_Vanilla: 0.6008, D_LS: 0.1892, D_WGAN: -0.6262\n",
      "FID Score: 1.8116\n",
      "Epoch [5/50] D_Vanilla: 0.0237, D_LS: 0.0008, D_WGAN: -0.9766\n",
      "FID Score: 1.9741\n",
      "Epoch [6/50] D_Vanilla: 0.0018, D_LS: 0.0000, D_WGAN: -0.9982\n",
      "FID Score: 2.0441\n",
      "Epoch [7/50] D_Vanilla: 0.0010, D_LS: 0.0000, D_WGAN: -0.9990\n",
      "FID Score: 2.5992\n",
      "Epoch [8/50] D_Vanilla: 0.0111, D_LS: 0.0001, D_WGAN: -0.9889\n",
      "FID Score: 2.2214\n",
      "Epoch [9/50] D_Vanilla: 0.0207, D_LS: 0.0005, D_WGAN: -0.9796\n",
      "FID Score: 2.0021\n",
      "Epoch [10/50] D_Vanilla: 0.0144, D_LS: 0.0004, D_WGAN: -0.9858\n",
      "FID Score: 2.1729\n",
      "Epoch [11/50] D_Vanilla: 0.1121, D_LS: 0.0326, D_WGAN: -0.9163\n",
      "FID Score: 2.1133\n",
      "Epoch [12/50] D_Vanilla: 0.0194, D_LS: 0.0010, D_WGAN: -0.9811\n",
      "FID Score: 2.1880\n",
      "Epoch [13/50] D_Vanilla: 0.0212, D_LS: 0.0007, D_WGAN: -0.9791\n",
      "FID Score: 2.1806\n",
      "Epoch [14/50] D_Vanilla: 0.0986, D_LS: 0.0114, D_WGAN: -0.9078\n",
      "FID Score: 2.0435\n",
      "Epoch [15/50] D_Vanilla: 0.0082, D_LS: 0.0001, D_WGAN: -0.9919\n",
      "FID Score: 2.0998\n",
      "Epoch [16/50] D_Vanilla: 0.0025, D_LS: 0.0000, D_WGAN: -0.9975\n",
      "FID Score: 2.1110\n",
      "Epoch [17/50] D_Vanilla: 0.0876, D_LS: 0.0079, D_WGAN: -0.9167\n",
      "FID Score: 2.1024\n",
      "Epoch [18/50] D_Vanilla: 1.5374, D_LS: 0.4845, D_WGAN: -0.3774\n",
      "FID Score: 1.9848\n",
      "Epoch [19/50] D_Vanilla: 0.0645, D_LS: 0.0073, D_WGAN: -0.9396\n",
      "FID Score: 1.7677\n",
      "Epoch [20/50] D_Vanilla: 0.0402, D_LS: 0.0020, D_WGAN: -0.9609\n",
      "FID Score: 1.6876\n",
      "Epoch [21/50] D_Vanilla: 0.0066, D_LS: 0.0001, D_WGAN: -0.9934\n",
      "FID Score: 1.6119\n",
      "Epoch [22/50] D_Vanilla: 0.0451, D_LS: 0.0030, D_WGAN: -0.9565\n",
      "FID Score: 1.4995\n",
      "Epoch [23/50] D_Vanilla: 0.4876, D_LS: 0.1642, D_WGAN: -0.6659\n",
      "FID Score: 1.5224\n",
      "Epoch [24/50] D_Vanilla: 0.0064, D_LS: 0.0000, D_WGAN: -0.9936\n",
      "FID Score: 1.4183\n",
      "Epoch [25/50] D_Vanilla: 0.2078, D_LS: 0.0595, D_WGAN: -0.8538\n",
      "FID Score: 1.4174\n",
      "Epoch [26/50] D_Vanilla: 3.8260, D_LS: 0.9478, D_WGAN: -0.0266\n",
      "FID Score: 1.4019\n",
      "Epoch [27/50] D_Vanilla: 0.7029, D_LS: 0.2252, D_WGAN: -0.5887\n",
      "FID Score: 1.3798\n",
      "Epoch [28/50] D_Vanilla: 0.0294, D_LS: 0.0011, D_WGAN: -0.9712\n",
      "FID Score: 1.3980\n",
      "Epoch [29/50] D_Vanilla: 2.9945, D_LS: 0.8437, D_WGAN: -0.0851\n",
      "FID Score: 1.3233\n",
      "Epoch [30/50] D_Vanilla: 0.0463, D_LS: 0.0032, D_WGAN: -0.9555\n",
      "FID Score: 1.2932\n",
      "Epoch [31/50] D_Vanilla: 0.0578, D_LS: 0.0064, D_WGAN: -0.9459\n",
      "FID Score: 1.2439\n",
      "Epoch [32/50] D_Vanilla: 0.4380, D_LS: 0.1441, D_WGAN: -0.6759\n",
      "FID Score: 1.2704\n",
      "Epoch [33/50] D_Vanilla: 0.0437, D_LS: 0.0042, D_WGAN: -0.9587\n",
      "FID Score: 1.1854\n",
      "Epoch [34/50] D_Vanilla: 0.0018, D_LS: 0.0000, D_WGAN: -0.9982\n",
      "FID Score: 1.1994\n",
      "Epoch [35/50] D_Vanilla: 0.4770, D_LS: 0.1575, D_WGAN: -0.6666\n",
      "FID Score: 1.1757\n",
      "Epoch [36/50] D_Vanilla: 0.0414, D_LS: 0.0021, D_WGAN: -0.9597\n",
      "FID Score: 1.1761\n",
      "Epoch [37/50] D_Vanilla: 0.0529, D_LS: 0.0055, D_WGAN: -0.9503\n",
      "FID Score: 1.1786\n",
      "Epoch [38/50] D_Vanilla: 0.0102, D_LS: 0.0001, D_WGAN: -0.9899\n",
      "FID Score: 1.1543\n",
      "Epoch [39/50] D_Vanilla: 0.0475, D_LS: 0.0044, D_WGAN: -0.9550\n",
      "FID Score: 1.1702\n",
      "Epoch [40/50] D_Vanilla: 0.1475, D_LS: 0.0492, D_WGAN: -0.9075\n",
      "FID Score: 1.0736\n",
      "Epoch [41/50] D_Vanilla: 2.5539, D_LS: 0.7439, D_WGAN: -0.1503\n",
      "FID Score: 1.0744\n",
      "Epoch [42/50] D_Vanilla: 0.0087, D_LS: 0.0001, D_WGAN: -0.9914\n",
      "FID Score: 1.0830\n",
      "Epoch [43/50] D_Vanilla: 0.3409, D_LS: 0.1075, D_WGAN: -0.7511\n",
      "FID Score: 1.0723\n",
      "Epoch [44/50] D_Vanilla: 0.0274, D_LS: 0.0008, D_WGAN: -0.9731\n",
      "FID Score: 1.0769\n",
      "Epoch [45/50] D_Vanilla: 0.0587, D_LS: 0.0044, D_WGAN: -0.9437\n",
      "FID Score: 1.0628\n",
      "Epoch [46/50] D_Vanilla: 0.0233, D_LS: 0.0007, D_WGAN: -0.9771\n",
      "FID Score: 1.0464\n",
      "Epoch [47/50] D_Vanilla: 0.0451, D_LS: 0.0037, D_WGAN: -0.9570\n",
      "FID Score: 1.0414\n",
      "Epoch [48/50] D_Vanilla: 0.1140, D_LS: 0.0208, D_WGAN: -0.8991\n",
      "FID Score: 1.0269\n",
      "Epoch [49/50] D_Vanilla: 1.6579, D_LS: 0.5527, D_WGAN: -0.3023\n",
      "FID Score: 0.9755\n"
     ]
    }
   ],
   "source": [
    "# Training loop\n",
    "for epoch in range(num_epochs):\n",
    "    for i, (real_images, _) in enumerate(dataloader):\n",
    "        real_images = real_images.to(device)\n",
    "        batch_size = real_images.size(0)\n",
    "\n",
    "        noise = torch.randn(batch_size, latent_dim, 1, 1, device=device)\n",
    "        fake_images = generator(noise)\n",
    "\n",
    "        # Vanilla GAN Loss\n",
    "        real_labels = torch.ones_like(discriminator(real_images), device=device)\n",
    "        fake_labels = torch.zeros_like(discriminator(fake_images), device=device)\n",
    "        loss_real = criterion_bce(discriminator(real_images), real_labels)\n",
    "        loss_fake = criterion_bce(discriminator(fake_images.detach()), fake_labels)\n",
    "        loss_d_vanilla = loss_real + loss_fake\n",
    "\n",
    "        # Least Squares GAN Loss\n",
    "        loss_real_ls = criterion_mse(discriminator(real_images), real_labels)\n",
    "        loss_fake_ls = criterion_mse(discriminator(fake_images.detach()), fake_labels)\n",
    "        loss_d_ls = loss_real_ls + loss_fake_ls\n",
    "\n",
    "        # WGAN Loss (without gradient penalty)\n",
    "        loss_d_wgan = -torch.mean(discriminator(real_images)) + torch.mean(discriminator(fake_images.detach()))\n",
    "\n",
    "        # Update Discriminator\n",
    "        optimizer_d.zero_grad()\n",
    "        loss_d_vanilla.backward(retain_graph=True)\n",
    "        loss_d_ls.backward(retain_graph=True)\n",
    "        loss_d_wgan.backward()\n",
    "        optimizer_d.step()\n",
    "\n",
    "        # Generator Loss (for all GANs)\n",
    "        loss_g_vanilla = criterion_bce(discriminator(fake_images), real_labels)\n",
    "        loss_g_ls = criterion_mse(discriminator(fake_images), real_labels)\n",
    "        loss_g_wgan = -torch.mean(discriminator(fake_images))\n",
    "\n",
    "        optimizer_g.zero_grad()\n",
    "        loss_g_vanilla.backward(retain_graph=True)\n",
    "        loss_g_ls.backward(retain_graph=True)\n",
    "        loss_g_wgan.backward()\n",
    "        optimizer_g.step()\n",
    "\n",
    "    print(f\"Epoch [{epoch}/{num_epochs}] D_Vanilla: {loss_d_vanilla.item():.4f}, D_LS: {loss_d_ls.item():.4f}, D_WGAN: {loss_d_wgan.item():.4f}\")\n",
    "    \n",
    "    # Compute FID\n",
    "    fid.update((real_images * 255).byte(), real=True)\n",
    "    fid.update((fake_images * 255).byte(), real=False)\n",
    "    fid_score = fid.compute().item()\n",
    "    writer.add_scalar(\"FID\", fid_score, epoch)\n",
    "    print(f\"FID Score: {fid_score:.4f}\")\n",
    "\n",
    "writer.close()"
   ]
  },
  {
   "cell_type": "code",
   "execution_count": null,
   "metadata": {},
   "outputs": [],
   "source": [
    "print (\"Done\")"
   ]
  },
  {
   "cell_type": "code",
   "execution_count": null,
   "metadata": {},
   "outputs": [],
   "source": []
  }
 ],
 "metadata": {
  "kernelspec": {
   "display_name": "Python 3",
   "language": "python",
   "name": "python3"
  },
  "language_info": {
   "codemirror_mode": {
    "name": "ipython",
    "version": 3
   },
   "file_extension": ".py",
   "mimetype": "text/x-python",
   "name": "python",
   "nbconvert_exporter": "python",
   "pygments_lexer": "ipython3",
   "version": "3.10.11"
  }
 },
 "nbformat": 4,
 "nbformat_minor": 2
}
